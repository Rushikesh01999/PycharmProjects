{
  "nbformat": 4,
  "nbformat_minor": 0,
  "metadata": {
    "colab": {
      "name": "Untitled",
      "provenance": [],
      "authorship_tag": "ABX9TyOI84rdluGUqHs5/hnPoSO+",
      "include_colab_link": true
    },
    "kernelspec": {
      "name": "python3",
      "display_name": "Python 3"
    }
  },
  "cells": [
    {
      "cell_type": "markdown",
      "metadata": {
        "id": "view-in-github",
        "colab_type": "text"
      },
      "source": [
        "<a href=\"https://colab.research.google.com/github/Rushikesh01999/PycharmProjects/blob/master/Untitled.ipynb\" target=\"_parent\"><img src=\"https://colab.research.google.com/assets/colab-badge.svg\" alt=\"Open In Colab\"/></a>"
      ]
    },
    {
      "cell_type": "code",
      "metadata": {
        "id": "eYMKZaixrVRW",
        "colab_type": "code",
        "colab": {}
      },
      "source": [
        "!pip install -U -q PyDrive\n",
        "from pydrive.auth import GoogleAuth\n",
        "from pydrive.drive import GoogleDrive\n",
        "from google.colab import auth\n",
        "from oauth2client.client import GoogleCredentials\n"
      ],
      "execution_count": 0,
      "outputs": []
    },
    {
      "cell_type": "code",
      "metadata": {
        "id": "ylhnI5mAxDBa",
        "colab_type": "code",
        "colab": {}
      },
      "source": [
        "auth.authenticate_user()\n",
        "gauth = GoogleAuth()\n",
        "gauth.credentials = GoogleCredentials.get_application_default()\n",
        "drive = GoogleDrive(gauth)"
      ],
      "execution_count": 0,
      "outputs": []
    },
    {
      "cell_type": "code",
      "metadata": {
        "id": "vUXylKnLxRi2",
        "colab_type": "code",
        "colab": {}
      },
      "source": [
        "downloaded = drive.CreateFile({'id':'1IWqTxktJ2rj-Yrsn-rLnDic1MTQPq5jb'}) # replace the id with id of file you want to access\n",
        "downloaded.GetContentFile('student-mat.csv') "
      ],
      "execution_count": 0,
      "outputs": []
    },
    {
      "cell_type": "code",
      "metadata": {
        "id": "nrP4GJV4xxDe",
        "colab_type": "code",
        "outputId": "3b4cfeb9-72b6-40dd-89f4-41523a424074",
        "colab": {
          "base_uri": "https://localhost:8080/",
          "height": 139
        }
      },
      "source": [
        "import pandas as pd\n",
        "data = pd.read_csv('student-mat.csv') \n",
        "print(data.head(5))"
      ],
      "execution_count": 10,
      "outputs": [
        {
          "output_type": "stream",
          "text": [
            "  school;sex;age;address;famsize;Pstatus;Medu;Fedu;Mjob;Fjob;reason;guardian;traveltime;studytime;failures;schoolsup;famsup;paid;activities;nursery;higher;internet;romantic;famrel;freetime;goout;Dalc;Walc;health;absences;G1;G2;G3\n",
            "0  GP;\"F\";18;\"U\";\"GT3\";\"A\";4;4;\"at_home\";\"teacher...                                                                                                                                                                                 \n",
            "1  GP;\"F\";17;\"U\";\"GT3\";\"T\";1;1;\"at_home\";\"other\";...                                                                                                                                                                                 \n",
            "2  GP;\"F\";15;\"U\";\"LE3\";\"T\";1;1;\"at_home\";\"other\";...                                                                                                                                                                                 \n",
            "3  GP;\"F\";15;\"U\";\"GT3\";\"T\";4;2;\"health\";\"services...                                                                                                                                                                                 \n",
            "4  GP;\"F\";16;\"U\";\"GT3\";\"T\";3;3;\"other\";\"other\";\"h...                                                                                                                                                                                 \n"
          ],
          "name": "stdout"
        }
      ]
    },
    {
      "cell_type": "code",
      "metadata": {
        "id": "XEDr83Lix8pu",
        "colab_type": "code",
        "colab": {}
      },
      "source": [
        "import sklearn\n",
        "import pandas as pd \n",
        "import numpy as np\n",
        "from sklearn.utils import shuffle\n",
        "from sklearn import linear_model\n",
        "import matplotlib as plt"
      ],
      "execution_count": 0,
      "outputs": []
    },
    {
      "cell_type": "code",
      "metadata": {
        "id": "CKIwcv7ryZsc",
        "colab_type": "code",
        "outputId": "66ad817a-96b6-43c4-eb50-add7f813c834",
        "colab": {
          "base_uri": "https://localhost:8080/",
          "height": 119
        }
      },
      "source": [
        "data=pd.read_csv(\"student-mat.csv\" ,sep=\";\")\n",
        "data.columns\n",
        "\n"
      ],
      "execution_count": 14,
      "outputs": [
        {
          "output_type": "execute_result",
          "data": {
            "text/plain": [
              "Index(['school', 'sex', 'age', 'address', 'famsize', 'Pstatus', 'Medu', 'Fedu',\n",
              "       'Mjob', 'Fjob', 'reason', 'guardian', 'traveltime', 'studytime',\n",
              "       'failures', 'schoolsup', 'famsup', 'paid', 'activities', 'nursery',\n",
              "       'higher', 'internet', 'romantic', 'famrel', 'freetime', 'goout', 'Dalc',\n",
              "       'Walc', 'health', 'absences', 'G1', 'G2', 'G3'],\n",
              "      dtype='object')"
            ]
          },
          "metadata": {
            "tags": []
          },
          "execution_count": 14
        }
      ]
    },
    {
      "cell_type": "code",
      "metadata": {
        "id": "iXJOZup7zOGx",
        "colab_type": "code",
        "colab": {}
      },
      "source": [
        "data=data[[\"G1\",\"G2\",\"G3\",\"studytime\",\"failures\",\"absences\"]]"
      ],
      "execution_count": 0,
      "outputs": []
    },
    {
      "cell_type": "code",
      "metadata": {
        "id": "8wQwCuJSzzdZ",
        "colab_type": "code",
        "colab": {
          "base_uri": "https://localhost:8080/",
          "height": 1000
        },
        "outputId": "803b419c-f084-4f06-bec0-6dd3d4254d55"
      },
      "source": [
        "predict=\"G3\"\n",
        "x=np.array(data.drop([predict],1))\n",
        "y=np.array(data[predict])\n",
        "\n",
        "x_train,x_test,y_train,y_test=sklearn.model_selection.train_test_split(x,y,test_size=0.3)\n",
        "linear=linear_model.LinearRegression()\n",
        "linear.fit(x_train,y_train)\n",
        "acc=linear.score(x_test,y_test)\n",
        "print(acc)\n",
        "print(\"coeff:\",linear.coef_)\n",
        "print(\"interpret:\",linear.intercept_)\n",
        "\n",
        "prediction=linear.predict(x_test)\n",
        "\n",
        "for x in range(len(prediction)):\n",
        "  print(prediction[x],x_test[x],y_test[x])"
      ],
      "execution_count": 45,
      "outputs": [
        {
          "output_type": "stream",
          "text": [
            "0.8119703760704522\n",
            "coeff: [ 0.12107125  0.98333656 -0.23907893 -0.34429888  0.03223248]\n",
            "interpret: -1.0100893392372399\n",
            "15.292575055392462 [14 15  1  0  3] 16\n",
            "9.316751962134186 [10 10  3  0  0] 9\n",
            "12.124796695984154 [13 12  1  0  0] 12\n",
            "8.883896885359693 [9 9 1 0 6] 10\n",
            "13.919919409102825 [15 14  3  0  2] 15\n",
            "11.318721128228775 [12 12  4  0  1] 12\n",
            "-0.2775346806373391 [10  0  2  0  0] 0\n",
            "-0.879827368340561 [7 0 3 0 0] 0\n",
            "6.826774711536689 [ 6  8  1  3 16] 8\n",
            "4.16272175918942 [5 5 2 0 4] 6\n",
            "10.732562320977769 [10 11  2  0  6] 11\n",
            "10.902381207247265 [13 11  2  0  0] 10\n",
            "11.51944043535717 [ 8 12  1  0  0] 12\n",
            "-0.9630688700789887 [12  0  3  2  0] 0\n",
            "14.596648505559655 [13 15  3  0  0] 15\n",
            "13.742241861554263 [13 14  3  0  4] 14\n",
            "6.578383831235842 [7 7 1 0 3] 8\n",
            "12.933519278769207 [13 13  2  0  2] 13\n",
            "12.769446263006467 [13 12  1  0 20] 12\n",
            "10.103783025430184 [10 10  2  0 17] 10\n",
            "14.277006019631493 [14 14  1  0  2] 13\n",
            "12.374797861514013 [14 12  1  0  4] 11\n",
            "11.965900043917484 [11 12  2  0 10] 13\n",
            "5.962773540374989 [7 7 2 1 2] 7\n",
            "10.966846163949496 [13 11  2  0  2] 11\n",
            "14.900192393588918 [13 15  2  0  2] 16\n",
            "10.24922809462763 [12 10  2  0 14] 11\n",
            "8.948361842061924 [9 9 1 0 8] 10\n",
            "7.604875101199639 [8 8 2 0 8] 6\n",
            "9.313688389210425 [ 8 10  2  0  0] 12\n",
            "10.899317634323504 [11 11  1  0  0] 12\n",
            "12.933519278769207 [13 13  2  0  2] 11\n",
            "11.807137371562407 [12 12  2  1 12] 13\n",
            "10.921162102729157 [13 11  3  0  8] 11\n",
            "10.781309955121868 [12 11  2  0  0] 12\n",
            "5.498349838772639 [7 6 1 0 0] 0\n",
            "10.173840903722573 [11 10  1  0  8] 10\n",
            "12.873849410422281 [10 13  1  0  4] 14\n",
            "10.724703659698703 [11 11  2  0  2] 11\n",
            "5.659512230528217 [7 6 1 0 5] 7\n",
            "4.619569377695195 [6 5 1 0 7] 6\n",
            "10.383334371728168 [10 11  4  0 10] 11\n",
            "12.844016651471666 [11 13  1  1 10] 13\n",
            "11.191809658884045 [12 11  1  1 16] 12\n",
            "11.888781337580882 [15 12  3  0  0] 14\n",
            "10.421159771669439 [11 11  3  0  0] 10\n",
            "5.581595690956763 [ 7  6  2  0 10] 6\n",
            "8.569430763127603 [8 9 1 0 0] 8\n",
            "5.212922992702008 [ 6  6  2  1 13] 8\n",
            "-1.4534810244280962 [4 0 1 2 0] 0\n",
            "-1.6767086534854048 [5 0 1 3 0] 0\n",
            "9.499224598038053 [ 9 10  2  0  2] 9\n",
            "18.313176830171784 [18 18  3  0  5] 19\n",
            "8.397880361426562 [10  9  3  0  2] 8\n",
            "11.764646512531725 [12 12  2  0  0] 11\n",
            "9.442618302614887 [ 8 10  2  0  4] 10\n",
            "5.388200820850069 [7 6 2 0 4] 6\n",
            "10.297024946620281 [ 8 11  2  0  0] 11\n",
            "11.920349962408737 [14 12  2  1  8] 12\n",
            "7.911482562152663 [10  8  2  0 10] 8\n",
            "9.566753127664045 [11 10  3  0  4] 11\n",
            "8.572494336051363 [10  9  2  0  0] 0\n",
            "5.154050957589934 [7 6 1 1 0] 0\n",
            "8.553068556251215 [ 8  8  1  0 30] 8\n",
            "10.256441871588443 [ 9  9  2  0 56] 8\n",
            "15.206799854541941 [15 15  2  0  4] 15\n",
            "11.590032537906923 [12 12  3  0  2] 11\n",
            "10.789168616400934 [11 11  2  0  4] 11\n",
            "7.73112271702111 [7 9 4 0 0] 0\n",
            "5.08863956918195 [6 7 2 3 0] 0\n",
            "15.886592523922534 [15 16  3  0  2] 18\n",
            "12.354936554614774 [10 13  2  1  6] 13\n",
            "12.261585270667682 [12 12  1  0  8] 12\n",
            "5.202664612022441 [6 6 2 0 2] 6\n",
            "8.58035299733043 [9 9 2 0 4] 10\n",
            "15.263406149965107 [16 15  2  0  2] 15\n",
            "8.451423083925967 [9 9 2 0 0] 10\n",
            "2.8430789615875165 [7 4 1 2 0] 0\n",
            "4.756209353907824 [8 6 2 2 2] 5\n",
            "8.459281745205033 [8 9 2 0 4] 10\n",
            "10.439940667151332 [11 11  4  0  8] 10\n",
            "9.555830893461218 [10 10  2  0  0] 10\n",
            "11.88265419173336 [11 12  1  0  0] 10\n",
            "9.939557060750845 [ 8 10  1  0 12] 10\n",
            "12.342148825268811 [11 13  4  0  6] 14\n",
            "8.886014026577701 [10 10  3  2  8] 10\n",
            "14.394884069567233 [15 14  2  1 20] 13\n",
            "12.8361579901926 [12 13  1  1  6] 14\n",
            "6.602757648307891 [8 7 1 0 0] 6\n",
            "10.603632407573306 [10 11  2  0  2] 11\n",
            "13.40128913147781 [15 13  2  0  9] 15\n",
            "12.221077573143415 [10 13  4  0  6] 13\n",
            "11.662490135599812 [14 12  2  1  0] 12\n",
            "15.021263645714317 [14 15  2  0  2] 15\n",
            "15.198941193262876 [16 15  2  0  0] 15\n",
            "10.283860292379247 [13 10  2  1 22] 11\n",
            "6.097315344574613 [ 7  6  2  0 26] 6\n",
            "9.449966059287291 [ 8  9  1  1 38] 8\n",
            "-0.3986059327627356 [9 0 2 0 0] 0\n",
            "13.717868044482213 [12 14  3  0  7] 14\n",
            "8.55904275318214 [10  9  3  0  7] 9\n",
            "6.515372162228359 [ 7  8  2  3 10] 10\n",
            "7.347015274390714 [8 8 2 0 0] 0\n",
            "6.121536212730065 [6 7 2 0 0] 0\n",
            "9.881219249896136 [12 10  3  0 10] 12\n",
            "4.809752076407229 [7 6 1 2 0] 0\n",
            "10.724703659698703 [11 11  2  0  2] 10\n",
            "4.348257968017047 [6 5 2 0 6] 6\n",
            "14.042722176659765 [11 14  1  0  6] 14\n",
            "14.897128820665158 [11 15  1  0  2] 15\n",
            "7.612733762478706 [ 7  8  2  0 12] 8\n",
            "15.521265976774032 [16 15  2  0 10] 15\n",
            "5.893379515605861 [7 7 4 0 4] 6\n",
            "11.783561387725209 [15 12  2  1  0] 12\n",
            "17.16561430808259 [16 17  2  0  0] 17\n",
            "8.73059315488318 [8 9 1 0 5] 9\n",
            "8.609239324575292 [ 7 10  3  1  0] 10\n",
            "9.68476080686568 [10 10  2  0  4] 10\n",
            "13.295786603439646 [15 14  3  2  4] 15\n"
          ],
          "name": "stdout"
        }
      ]
    }
  ]
}